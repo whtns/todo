{
  "cells": [
    {
      "cell_type": "markdown",
      "metadata": {
        "id": "view-in-github",
        "colab_type": "text"
      },
      "source": [
        "<a href=\"https://colab.research.google.com/github/whtns/todo/blob/main/_downloads/91d72708edab956d7293bb263e2ab53f/optimization_tutorial.ipynb\" target=\"_parent\"><img src=\"https://colab.research.google.com/assets/colab-badge.svg\" alt=\"Open In Colab\"/></a>"
      ]
    },
    {
      "cell_type": "code",
      "execution_count": 1,
      "metadata": {
        "id": "h4k7fwRv7Ae8"
      },
      "outputs": [],
      "source": [
        "# For tips on running notebooks in Google Colab, see\n",
        "# https://docs.pytorch.org/tutorials/beginner/colab\n",
        "%matplotlib inline"
      ]
    },
    {
      "cell_type": "markdown",
      "metadata": {
        "id": "JJB9Pb5s7Ae9"
      },
      "source": [
        "⚠️ links are all broken!\n",
        "\n",
        "[Learn the Basics](intro.html) \\|\\|\n",
        "[Quickstart](quickstart_tutorial.html) \\|\\|\n",
        "[Tensors](tensorqs_tutorial.html) \\|\\| [Datasets &\n",
        "DataLoaders](data_tutorial.html) \\|\\|\n",
        "[Transforms](transforms_tutorial.html) \\|\\| [Build\n",
        "Model](buildmodel_tutorial.html) \\|\\|\n",
        "[Autograd](autogradqs_tutorial.html) \\|\\| **Optimization** \\|\\| [Save &\n",
        "Load Model](saveloadrun_tutorial.html)\n",
        "\n",
        "Optimizing Model Parameters\n",
        "===========================\n",
        "\n",
        "Now that we have a model and data it\\'s time to train, validate and test\n",
        "our model by optimizing its parameters on our data. Training a model is\n",
        "an iterative process; in each iteration the model makes a guess about\n",
        "the output, calculates the error in its guess (*loss*), collects the\n",
        "derivatives of the error with respect to its parameters (as we saw in\n",
        "the [previous section](autograd_tutorial.html)), and **optimizes** these\n",
        "parameters using gradient descent. For a more detailed walkthrough of\n",
        "this process, check out this video on [backpropagation from\n",
        "3Blue1Brown](https://www.youtube.com/watch?v=tIeHLnjs5U8).\n",
        "\n",
        "Prerequisite Code\n",
        "-----------------\n",
        "\n",
        "We load the code from the previous sections on [Datasets &\n",
        "DataLoaders](data_tutorial.html) and [Build\n",
        "Model](buildmodel_tutorial.html).\n"
      ]
    },
    {
      "cell_type": "code",
      "execution_count": 2,
      "metadata": {
        "id": "iygx1-Q37Ae9",
        "outputId": "ae97025d-2683-4dad-c622-26cc54fce223",
        "colab": {
          "base_uri": "https://localhost:8080/"
        }
      },
      "outputs": [
        {
          "output_type": "stream",
          "name": "stderr",
          "text": [
            "100%|██████████| 26.4M/26.4M [00:01<00:00, 15.8MB/s]\n",
            "100%|██████████| 29.5k/29.5k [00:00<00:00, 274kB/s]\n",
            "100%|██████████| 4.42M/4.42M [00:00<00:00, 5.03MB/s]\n",
            "100%|██████████| 5.15k/5.15k [00:00<00:00, 11.3MB/s]\n"
          ]
        }
      ],
      "source": [
        "import torch\n",
        "from torch import nn\n",
        "from torch.utils.data import DataLoader\n",
        "from torchvision import datasets\n",
        "from torchvision.transforms import ToTensor\n",
        "\n",
        "training_data = datasets.FashionMNIST(\n",
        "    root=\"data\",\n",
        "    train=True,\n",
        "    download=True,\n",
        "    transform=ToTensor()\n",
        ")\n",
        "\n",
        "test_data = datasets.FashionMNIST(\n",
        "    root=\"data\",\n",
        "    train=False,\n",
        "    download=True,\n",
        "    transform=ToTensor()\n",
        ")\n",
        "\n",
        "train_dataloader = DataLoader(training_data, batch_size=64)\n",
        "test_dataloader = DataLoader(test_data, batch_size=64)\n",
        "\n",
        "class NeuralNetwork(nn.Module):\n",
        "    def __init__(self):\n",
        "        super().__init__()\n",
        "        self.flatten = nn.Flatten()\n",
        "        self.linear_relu_stack = nn.Sequential(\n",
        "            nn.Linear(28*28, 512),\n",
        "            nn.ReLU(),\n",
        "            nn.Linear(512, 512),\n",
        "            nn.ReLU(),\n",
        "            nn.Linear(512, 10),\n",
        "        )\n",
        "\n",
        "    def forward(self, x):\n",
        "        x = self.flatten(x)\n",
        "        logits = self.linear_relu_stack(x)\n",
        "        return logits\n",
        "\n",
        "model = NeuralNetwork()"
      ]
    },
    {
      "cell_type": "markdown",
      "metadata": {
        "id": "eVzPZ7vI7Ae9"
      },
      "source": [
        "Hyperparameters\n",
        "===============\n",
        "\n",
        "Hyperparameters are adjustable parameters that let you control the model\n",
        "optimization process. Different hyperparameter values can impact model\n",
        "training and convergence rates ([read\n",
        "more](https://pytorch.org/tutorials/beginner/hyperparameter_tuning_tutorial.html)\n",
        "about hyperparameter tuning)\n",
        "\n",
        "We define the following hyperparameters for training:\n",
        "\n",
        ":   -   **Number of Epochs** - the number of times to iterate over the\n",
        "        dataset\n",
        "    -   **Batch Size** - the number of data samples propagated through\n",
        "        the network before the parameters are updated\n",
        "    -   **Learning Rate** - how much to update models parameters at each\n",
        "        batch/epoch. Smaller values yield slow learning speed, while\n",
        "        large values may result in unpredictable behavior during\n",
        "        training.\n"
      ]
    },
    {
      "cell_type": "code",
      "execution_count": 4,
      "metadata": {
        "id": "x5zpsMnC7Ae9"
      },
      "outputs": [],
      "source": [
        "learning_rate = 1e-3\n",
        "batch_size = 64\n",
        "epochs = 5"
      ]
    },
    {
      "cell_type": "markdown",
      "metadata": {
        "id": "jU5gEiTl7Ae9"
      },
      "source": [
        "⚠️ formatting of internal links broken\n",
        "\n",
        "Optimization Loop\n",
        "=================\n",
        "\n",
        "Once we set our hyperparameters, we can then train and optimize our\n",
        "model with an optimization loop. Each iteration of the optimization loop\n",
        "is called an **epoch**.\n",
        "\n",
        "Each epoch consists of two main parts:\n",
        "\n",
        ":   -   **The Train Loop** - iterate over the training dataset and try\n",
        "        to converge to optimal parameters.\n",
        "    -   **The Validation/Test Loop** - iterate over the test dataset to\n",
        "        check if model performance is improving.\n",
        "\n",
        "Let\\'s briefly familiarize ourselves with some of the concepts used in\n",
        "the training loop. Jump ahead to see the\n",
        "`full-impl-label`{.interpreted-text role=\"ref\"} of the optimization\n",
        "loop.\n",
        "\n",
        "Loss Function\n",
        "-------------\n",
        "\n",
        "When presented with some training data, our untrained network is likely\n",
        "not to give the correct answer. **Loss function** measures the degree of\n",
        "dissimilarity of obtained result to the target value, and it is the loss\n",
        "function that we want to minimize during training. To calculate the loss\n",
        "we make a prediction using the inputs of our given data sample and\n",
        "compare it against the true data label value.\n",
        "\n",
        "Common loss functions include\n",
        "[nn.MSELoss](https://pytorch.org/docs/stable/generated/torch.nn.MSELoss.html#torch.nn.MSELoss)\n",
        "(Mean Square Error) for regression tasks, and\n",
        "[nn.NLLLoss](https://pytorch.org/docs/stable/generated/torch.nn.NLLLoss.html#torch.nn.NLLLoss)\n",
        "(Negative Log Likelihood) for classification.\n",
        "[nn.CrossEntropyLoss](https://pytorch.org/docs/stable/generated/torch.nn.CrossEntropyLoss.html#torch.nn.CrossEntropyLoss)\n",
        "combines `nn.LogSoftmax` and `nn.NLLLoss`.\n",
        "\n",
        "We pass our model\\'s output logits to `nn.CrossEntropyLoss`, which will\n",
        "normalize the logits and compute the prediction error.\n"
      ]
    },
    {
      "cell_type": "code",
      "execution_count": 5,
      "metadata": {
        "id": "uf_l-eFe7Ae9"
      },
      "outputs": [],
      "source": [
        "\n",
        "# Initialize the loss function\n",
        "loss_fn = nn.CrossEntropyLoss()"
      ]
    },
    {
      "cell_type": "markdown",
      "metadata": {
        "id": "WhxLcrQp7Ae9"
      },
      "source": [
        "Optimizer\n",
        "=========\n",
        "\n",
        "Optimization is the process of adjusting model parameters to reduce\n",
        "model error in each training step. **Optimization algorithms** define\n",
        "how this process is performed (in this example we use Stochastic\n",
        "Gradient Descent). All optimization logic is encapsulated in the\n",
        "`optimizer` object. Here, we use the SGD optimizer; additionally, there\n",
        "are many [different\n",
        "optimizers](https://pytorch.org/docs/stable/optim.html) available in\n",
        "PyTorch such as ADAM and RMSProp, that work better for different kinds\n",
        "of models and data.\n",
        "\n",
        "We initialize the optimizer by registering the model\\'s parameters that\n",
        "need to be trained, and passing in the learning rate hyperparameter.\n"
      ]
    },
    {
      "cell_type": "code",
      "execution_count": 6,
      "metadata": {
        "id": "vGFqYNy_7Ae9"
      },
      "outputs": [],
      "source": [
        "optimizer = torch.optim.SGD(model.parameters(), lr=learning_rate)"
      ]
    },
    {
      "cell_type": "markdown",
      "metadata": {
        "id": "P-IBvN1P7Ae9"
      },
      "source": [
        "Inside the training loop, optimization happens in three steps:\n",
        "\n",
        ":   -   Call `optimizer.zero_grad()` to reset the gradients of model\n",
        "        parameters. Gradients by default add up; to prevent\n",
        "        double-counting, we explicitly zero them at each iteration.\n",
        "    -   Backpropagate the prediction loss with a call to\n",
        "        `loss.backward()`. PyTorch deposits the gradients of the loss\n",
        "        w.r.t. each parameter.\n",
        "    -   Once we have our gradients, we call `optimizer.step()` to adjust\n",
        "        the parameters by the gradients collected in the backward pass.\n"
      ]
    },
    {
      "cell_type": "markdown",
      "metadata": {
        "id": "ykCA5XO87Ae9"
      },
      "source": [
        "Full Implementation {#full-impl-label}\n",
        "===================\n",
        "\n",
        "We define `train_loop` that loops over our optimization code, and\n",
        "`test_loop` that evaluates the model\\'s performance against our test\n",
        "data.\n"
      ]
    },
    {
      "cell_type": "markdown",
      "source": [
        "⚠️ are the backpropagation steps out of order? why do they not match the order given in the preceding explanation?"
      ],
      "metadata": {
        "id": "Lgmdb2CnDAnJ"
      }
    },
    {
      "cell_type": "code",
      "execution_count": 7,
      "metadata": {
        "id": "0M5vwAaN7Ae-"
      },
      "outputs": [],
      "source": [
        "def train_loop(dataloader, model, loss_fn, optimizer):\n",
        "    size = len(dataloader.dataset)\n",
        "    # Set the model to training mode - important for batch normalization and dropout layers\n",
        "    # Unnecessary in this situation but added for best practices\n",
        "    model.train()\n",
        "    for batch, (X, y) in enumerate(dataloader):\n",
        "        # Compute prediction and loss\n",
        "        pred = model(X)\n",
        "        loss = loss_fn(pred, y)\n",
        "\n",
        "        # Backpropagation\n",
        "        loss.backward()\n",
        "        optimizer.step()\n",
        "        optimizer.zero_grad()\n",
        "\n",
        "        if batch % 100 == 0:\n",
        "            loss, current = loss.item(), batch * batch_size + len(X)\n",
        "            print(f\"loss: {loss:>7f}  [{current:>5d}/{size:>5d}]\")\n",
        "\n",
        "\n",
        "def test_loop(dataloader, model, loss_fn):\n",
        "    # Set the model to evaluation mode - important for batch normalization and dropout layers\n",
        "    # Unnecessary in this situation but added for best practices\n",
        "    model.eval()\n",
        "    size = len(dataloader.dataset)\n",
        "    num_batches = len(dataloader)\n",
        "    test_loss, correct = 0, 0\n",
        "\n",
        "    # Evaluating the model with torch.no_grad() ensures that no gradients are computed during test mode\n",
        "    # also serves to reduce unnecessary gradient computations and memory usage for tensors with requires_grad=True\n",
        "    with torch.no_grad():\n",
        "        for X, y in dataloader:\n",
        "            pred = model(X)\n",
        "            test_loss += loss_fn(pred, y).item()\n",
        "            correct += (pred.argmax(1) == y).type(torch.float).sum().item()\n",
        "\n",
        "    test_loss /= num_batches\n",
        "    correct /= size\n",
        "    print(f\"Test Error: \\n Accuracy: {(100*correct):>0.1f}%, Avg loss: {test_loss:>8f} \\n\")"
      ]
    },
    {
      "cell_type": "markdown",
      "metadata": {
        "id": "YqImQxsD7Ae-"
      },
      "source": [
        "We initialize the loss function and optimizer, and pass it to\n",
        "`train_loop` and `test_loop`. Feel free to increase the number of epochs\n",
        "to track the model\\'s improving performance.\n"
      ]
    },
    {
      "cell_type": "code",
      "execution_count": 8,
      "metadata": {
        "id": "HskNOv0F7Ae-",
        "outputId": "2960b53a-061e-4ac0-f123-f380b5cd67c2",
        "colab": {
          "base_uri": "https://localhost:8080/"
        }
      },
      "outputs": [
        {
          "output_type": "stream",
          "name": "stdout",
          "text": [
            "Epoch 1\n",
            "-------------------------------\n",
            "loss: 2.308894  [   64/60000]\n",
            "loss: 2.302700  [ 6464/60000]\n",
            "loss: 2.280133  [12864/60000]\n",
            "loss: 2.273060  [19264/60000]\n",
            "loss: 2.260661  [25664/60000]\n",
            "loss: 2.231652  [32064/60000]\n",
            "loss: 2.243346  [38464/60000]\n",
            "loss: 2.209188  [44864/60000]\n",
            "loss: 2.212559  [51264/60000]\n",
            "loss: 2.182467  [57664/60000]\n",
            "Test Error: \n",
            " Accuracy: 37.2%, Avg loss: 2.174189 \n",
            "\n",
            "Epoch 2\n",
            "-------------------------------\n",
            "loss: 2.180823  [   64/60000]\n",
            "loss: 2.177902  [ 6464/60000]\n",
            "loss: 2.119928  [12864/60000]\n",
            "loss: 2.137469  [19264/60000]\n",
            "loss: 2.094235  [25664/60000]\n",
            "loss: 2.036861  [32064/60000]\n",
            "loss: 2.066828  [38464/60000]\n",
            "loss: 1.989001  [44864/60000]\n",
            "loss: 1.998967  [51264/60000]\n",
            "loss: 1.932581  [57664/60000]\n",
            "Test Error: \n",
            " Accuracy: 59.2%, Avg loss: 1.927205 \n",
            "\n",
            "Epoch 3\n",
            "-------------------------------\n",
            "loss: 1.950662  [   64/60000]\n",
            "loss: 1.931270  [ 6464/60000]\n",
            "loss: 1.815194  [12864/60000]\n",
            "loss: 1.854652  [19264/60000]\n",
            "loss: 1.754776  [25664/60000]\n",
            "loss: 1.701742  [32064/60000]\n",
            "loss: 1.720454  [38464/60000]\n",
            "loss: 1.617785  [44864/60000]\n",
            "loss: 1.641936  [51264/60000]\n",
            "loss: 1.538985  [57664/60000]\n",
            "Test Error: \n",
            " Accuracy: 61.3%, Avg loss: 1.555944 \n",
            "\n",
            "Epoch 4\n",
            "-------------------------------\n",
            "loss: 1.613172  [   64/60000]\n",
            "loss: 1.585497  [ 6464/60000]\n",
            "loss: 1.433515  [12864/60000]\n",
            "loss: 1.502574  [19264/60000]\n",
            "loss: 1.387705  [25664/60000]\n",
            "loss: 1.376730  [32064/60000]\n",
            "loss: 1.384080  [38464/60000]\n",
            "loss: 1.306645  [44864/60000]\n",
            "loss: 1.345587  [51264/60000]\n",
            "loss: 1.242464  [57664/60000]\n",
            "Test Error: \n",
            " Accuracy: 62.9%, Avg loss: 1.273185 \n",
            "\n",
            "Epoch 5\n",
            "-------------------------------\n",
            "loss: 1.345207  [   64/60000]\n",
            "loss: 1.333152  [ 6464/60000]\n",
            "loss: 1.165585  [12864/60000]\n",
            "loss: 1.268453  [19264/60000]\n",
            "loss: 1.146067  [25664/60000]\n",
            "loss: 1.164985  [32064/60000]\n",
            "loss: 1.178647  [38464/60000]\n",
            "loss: 1.115901  [44864/60000]\n",
            "loss: 1.164012  [51264/60000]\n",
            "loss: 1.073177  [57664/60000]\n",
            "Test Error: \n",
            " Accuracy: 64.3%, Avg loss: 1.099722 \n",
            "\n",
            "Epoch 6\n",
            "-------------------------------\n",
            "loss: 1.168170  [   64/60000]\n",
            "loss: 1.175971  [ 6464/60000]\n",
            "loss: 0.990608  [12864/60000]\n",
            "loss: 1.125586  [19264/60000]\n",
            "loss: 0.999145  [25664/60000]\n",
            "loss: 1.024963  [32064/60000]\n",
            "loss: 1.055165  [38464/60000]\n",
            "loss: 0.996018  [44864/60000]\n",
            "loss: 1.047148  [51264/60000]\n",
            "loss: 0.969761  [57664/60000]\n",
            "Test Error: \n",
            " Accuracy: 65.7%, Avg loss: 0.989295 \n",
            "\n",
            "Epoch 7\n",
            "-------------------------------\n",
            "loss: 1.045882  [   64/60000]\n",
            "loss: 1.075406  [ 6464/60000]\n",
            "loss: 0.871074  [12864/60000]\n",
            "loss: 1.032228  [19264/60000]\n",
            "loss: 0.908246  [25664/60000]\n",
            "loss: 0.926992  [32064/60000]\n",
            "loss: 0.975930  [38464/60000]\n",
            "loss: 0.917490  [44864/60000]\n",
            "loss: 0.966770  [51264/60000]\n",
            "loss: 0.901092  [57664/60000]\n",
            "Test Error: \n",
            " Accuracy: 67.0%, Avg loss: 0.914517 \n",
            "\n",
            "Epoch 8\n",
            "-------------------------------\n",
            "loss: 0.956368  [   64/60000]\n",
            "loss: 1.005686  [ 6464/60000]\n",
            "loss: 0.785423  [12864/60000]\n",
            "loss: 0.966415  [19264/60000]\n",
            "loss: 0.848324  [25664/60000]\n",
            "loss: 0.855381  [32064/60000]\n",
            "loss: 0.920533  [38464/60000]\n",
            "loss: 0.864013  [44864/60000]\n",
            "loss: 0.908962  [51264/60000]\n",
            "loss: 0.851680  [57664/60000]\n",
            "Test Error: \n",
            " Accuracy: 68.2%, Avg loss: 0.860812 \n",
            "\n",
            "Epoch 9\n",
            "-------------------------------\n",
            "loss: 0.887799  [   64/60000]\n",
            "loss: 0.952927  [ 6464/60000]\n",
            "loss: 0.721631  [12864/60000]\n",
            "loss: 0.917082  [19264/60000]\n",
            "loss: 0.805842  [25664/60000]\n",
            "loss: 0.801817  [32064/60000]\n",
            "loss: 0.878781  [38464/60000]\n",
            "loss: 0.826103  [44864/60000]\n",
            "loss: 0.865898  [51264/60000]\n",
            "loss: 0.813868  [57664/60000]\n",
            "Test Error: \n",
            " Accuracy: 69.4%, Avg loss: 0.820184 \n",
            "\n",
            "Epoch 10\n",
            "-------------------------------\n",
            "loss: 0.832992  [   64/60000]\n",
            "loss: 0.910359  [ 6464/60000]\n",
            "loss: 0.672154  [12864/60000]\n",
            "loss: 0.878821  [19264/60000]\n",
            "loss: 0.773545  [25664/60000]\n",
            "loss: 0.760718  [32064/60000]\n",
            "loss: 0.845183  [38464/60000]\n",
            "loss: 0.798021  [44864/60000]\n",
            "loss: 0.832409  [51264/60000]\n",
            "loss: 0.783308  [57664/60000]\n",
            "Test Error: \n",
            " Accuracy: 70.7%, Avg loss: 0.787986 \n",
            "\n",
            "Done!\n"
          ]
        }
      ],
      "source": [
        "loss_fn = nn.CrossEntropyLoss()\n",
        "optimizer = torch.optim.SGD(model.parameters(), lr=learning_rate)\n",
        "\n",
        "epochs = 10\n",
        "for t in range(epochs):\n",
        "    print(f\"Epoch {t+1}\\n-------------------------------\")\n",
        "    train_loop(train_dataloader, model, loss_fn, optimizer)\n",
        "    test_loop(test_dataloader, model, loss_fn)\n",
        "print(\"Done!\")"
      ]
    },
    {
      "cell_type": "markdown",
      "metadata": {
        "id": "HWTJ2TY77Ae-"
      },
      "source": [
        "Further Reading\n",
        "===============\n",
        "\n",
        "-   [Loss\n",
        "    Functions](https://pytorch.org/docs/stable/nn.html#loss-functions)\n",
        "-   [torch.optim](https://pytorch.org/docs/stable/optim.html)\n",
        "-   [Warmstart Training a\n",
        "    Model](https://pytorch.org/tutorials/recipes/recipes/warmstarting_model_using_parameters_from_a_different_model.html)\n"
      ]
    }
  ],
  "metadata": {
    "kernelspec": {
      "display_name": "Python 3",
      "language": "python",
      "name": "python3"
    },
    "language_info": {
      "codemirror_mode": {
        "name": "ipython",
        "version": 3
      },
      "file_extension": ".py",
      "mimetype": "text/x-python",
      "name": "python",
      "nbconvert_exporter": "python",
      "pygments_lexer": "ipython3",
      "version": "3.10.12"
    },
    "colab": {
      "provenance": [],
      "include_colab_link": true
    }
  },
  "nbformat": 4,
  "nbformat_minor": 0
}